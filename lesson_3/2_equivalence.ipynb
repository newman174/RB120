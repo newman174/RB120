{
 "cells": [
  {
   "cell_type": "markdown",
   "metadata": {},
   "source": [
    "Summary\n",
    "This is probably too much to know about how Ruby handles equality, so we'll try to summarize the important points:\n",
    "\n",
    "Most Important\n",
    "==\n",
    "\n",
    "for most objects, the == operator compares the values of the objects, and is frequently used.\n",
    "the == operator is actually a method. Most built-in Ruby classes, like Array, String, Integer, etc. provide their own == method to specify how to compare objects of those classes.\n",
    "by default, BasicObject#== does not perform an equality check; instead, it returns true if two objects are the same object. This is why other classes often provide their own behavior for #==.\n",
    "if you need to compare custom objects, you should define the == method.\n",
    "understanding how this method works is the most important part of this assignment.\n",
    "Less Important\n",
    "equal?\n",
    "\n",
    "the equal? method goes one level deeper than == and determines whether two variables not only have the same value, but also whether they point to the same object.\n",
    "do not define equal?.\n",
    "the equal? method is not used very often.\n",
    "calling object_id on an object will return the object's unique numerical value. Comparing two objects' object_id has the same effect as comparing them with equal?.\n",
    "===\n",
    "\n",
    "used implicitly in case statements.\n",
    "like ==, the === operator is actually a method.\n",
    "you rarely need to call this method explicitly, and only need to implement it in your custom classes if you anticipate your objects will be used in case statements, which is probably pretty rare.\n",
    "eql?\n",
    "\n",
    "used implicitly by Hash.\n",
    "very rarely used explicitly."
   ]
  }
 ],
 "metadata": {
  "kernelspec": {
   "display_name": "Ruby 3.0.1",
   "language": "ruby",
   "name": "ruby"
  },
  "language_info": {
   "name": "ruby"
  },
  "orig_nbformat": 4
 },
 "nbformat": 4,
 "nbformat_minor": 2
}
