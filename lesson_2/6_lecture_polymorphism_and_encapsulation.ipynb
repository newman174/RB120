{
 "cells": [
  {
   "cell_type": "code",
   "execution_count": 1,
   "metadata": {},
   "outputs": [
    {
     "name": "stdout",
     "output_type": "stream",
     "text": [
      "swim\n",
      "walk\n"
     ]
    },
    {
     "data": {
      "text/plain": [
       "[#<#<Class:0x0000557a6dda8f80>::Fish:0x0000557a6df2d450>, #<#<Class:0x0000557a6dda8f80>::Cat:0x0000557a6df2d3b0>, #<#<Class:0x0000557a6dda8f80>::Sponge:0x0000557a6df2d310>, #<#<Class:0x0000557a6dda8f80>::Coral:0x0000557a6df2d270>]"
      ]
     },
     "execution_count": 1,
     "metadata": {},
     "output_type": "execute_result"
    }
   ],
   "source": [
    "class Animal\n",
    "  def move\n",
    "  end\n",
    "end\n",
    "\n",
    "class Fish < Animal\n",
    "  def move\n",
    "    puts \"swim\"\n",
    "  end\n",
    "end\n",
    "\n",
    "class Cat < Animal\n",
    "  def move\n",
    "    puts \"walk\"\n",
    "  end\n",
    "end\n",
    "\n",
    "# Sponges and Corals don't have a separate move method - they don't move\n",
    "class Sponge < Animal; end\n",
    "class Coral < Animal; end\n",
    "\n",
    "animals = [Fish.new, Cat.new, Sponge.new, Coral.new]\n",
    "animals.each { |animal| animal.move }"
   ]
  },
  {
   "cell_type": "code",
   "execution_count": null,
   "metadata": {},
   "outputs": [],
   "source": [
    "# BAD\n",
    "\n",
    "class Wedding\n",
    "  attr_reader :guests, :flowers, :songs\n",
    "\n",
    "  def prepare(preparers)\n",
    "    preparers.each do |preparer|\n",
    "      case preparer\n",
    "      when Chef\n",
    "        preparer.prepare_food(guests)\n",
    "      when Decorator\n",
    "        preparer.decorate_place(flowers)\n",
    "      when Musician\n",
    "        preparer.prepare_performance(songs)\n",
    "      end\n",
    "    end\n",
    "  end\n",
    "end\n",
    "\n",
    "class Chef\n",
    "  def prepare_food(guests)\n",
    "    # implementation\n",
    "  end\n",
    "end\n",
    "\n",
    "class Decorator\n",
    "  def decorate_place(flowers)\n",
    "    # implementation\n",
    "  end\n",
    "end\n",
    "\n",
    "class Musician\n",
    "  def prepare_performance(songs)\n",
    "    #implementation\n",
    "  end\n",
    "end"
   ]
  },
  {
   "cell_type": "code",
   "execution_count": null,
   "metadata": {},
   "outputs": [],
   "source": [
    "# GOOD\n",
    "\n",
    "class Wedding\n",
    "  attr_reader :guests, :flowers, :songs\n",
    "\n",
    "  def prepare(preparers)\n",
    "    preparers.each do |preparer|\n",
    "      preparer.prepare_wedding(self)\n",
    "    end\n",
    "  end\n",
    "end\n",
    "\n",
    "class Chef\n",
    "  def prepare_wedding(wedding)\n",
    "    prepare_food(wedding.guests)\n",
    "  end\n",
    "\n",
    "  def prepare_food(guests)\n",
    "    #implementation\n",
    "  end\n",
    "end\n",
    "\n",
    "class Decorator\n",
    "  def prepare_wedding(wedding)\n",
    "    decorate_place(wedding.flowers)\n",
    "  end\n",
    "\n",
    "  def decorate_place(flowers)\n",
    "    # implementation\n",
    "  end\n",
    "end\n",
    "\n",
    "class Musician\n",
    "  def prepare_wedding(wedding)\n",
    "    prepare_performance(wedding.songs)\n",
    "  end\n",
    "\n",
    "  def prepare_performance(songs)\n",
    "    #implementation\n",
    "  end\n",
    "end"
   ]
  }
 ],
 "metadata": {
  "kernelspec": {
   "display_name": "Ruby 3.0.1",
   "language": "ruby",
   "name": "ruby"
  },
  "language_info": {
   "file_extension": ".rb",
   "mimetype": "application/x-ruby",
   "name": "ruby",
   "version": "3.0.1"
  },
  "orig_nbformat": 4
 },
 "nbformat": 4,
 "nbformat_minor": 2
}
