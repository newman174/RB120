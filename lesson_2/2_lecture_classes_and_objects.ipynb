{
 "cells": [
  {
   "cell_type": "markdown",
   "metadata": {},
   "source": [
    "# Lecture: Classes and Objects\n",
    "\n",
    "Courses > RB120 Object Oriented Programming > Lesson 2: Object Oriented Programming > [2. Lecture: Classes and Objects](https://launchschool.com/lessons/dfff5f6b/assignments/209fc900)\n",
    "\n",
    "As you know by now, classes are the blueprints for objects. Below are some practice problems that test your knowledge of the connection between classes and objects."
   ]
  },
  {
   "cell_type": "markdown",
   "metadata": {},
   "source": [
    "## 1 \n",
    " \n",
    "Given the below usage of the Person class, code the class definition."
   ]
  },
  {
   "cell_type": "code",
   "execution_count": null,
   "metadata": {},
   "outputs": [],
   "source": [
    "bob = Person.new('bob')\n",
    "bob.name                  # => 'bob'\n",
    "bob.name = 'Robert'\n",
    "bob.name                  # => 'Robert'"
   ]
  },
  {
   "cell_type": "code",
   "execution_count": 8,
   "metadata": {},
   "outputs": [
    {
     "name": "stdout",
     "output_type": "stream",
     "text": [
      "bob\n",
      "Robert\n"
     ]
    }
   ],
   "source": [
    "class Person\n",
    "  attr_accessor :name\n",
    "\n",
    "  def initialize(n)\n",
    "    @name = n\n",
    "  end\n",
    "end\n",
    "\n",
    "bob = Person.new('bob')\n",
    "puts bob.name                  # => 'bob'\n",
    "bob.name = 'Robert'\n",
    "puts bob.name                  # => 'Robert'\n",
    "nil\n"
   ]
  },
  {
   "cell_type": "markdown",
   "metadata": {},
   "source": [
    "## 2\n",
    "\n",
    "Modify the class definition from above to facilitate the following methods. Note that there is no `name=` setter method now.\n"
   ]
  },
  {
   "cell_type": "code",
   "execution_count": null,
   "metadata": {},
   "outputs": [],
   "source": [
    "bob = Person.new('Robert')\n",
    "bob.name                  # => 'Robert'\n",
    "bob.first_name            # => 'Robert'\n",
    "bob.last_name             # => ''\n",
    "bob.last_name = 'Smith'\n",
    "bob.name                  # => 'Robert Smith'"
   ]
  },
  {
   "cell_type": "markdown",
   "metadata": {},
   "source": [
    "Hint: let `first_name` and `last_name` be \"states\" and create an instance method called `name` that uses those states."
   ]
  },
  {
   "cell_type": "code",
   "execution_count": 29,
   "metadata": {},
   "outputs": [
    {
     "name": "stdout",
     "output_type": "stream",
     "text": [
      "\"Robert\"\n",
      "\"Robert\"\n",
      "\"\"\n",
      "\"Robert Smith\"\n"
     ]
    }
   ],
   "source": [
    "class Person\n",
    "  attr_accessor :first_name, :last_name\n",
    "\n",
    "  def initialize(n)\n",
    "    @first_name, @last_name = n.split(' ')\n",
    "    @last_name = '' if @last_name == nil\n",
    "  end\n",
    "\n",
    "  def name\n",
    "    output = first_name\n",
    "    output << ' ' + last_name if last_name != ''\n",
    "    output\n",
    "  end\n",
    "end\n",
    "\n",
    "bob = Person.new('Robert')\n",
    "# puts 'yo'\n",
    "p bob.name                  # => 'Robert'\n",
    "p bob.first_name            # => 'Robert'\n",
    "p bob.last_name             # => ''\n",
    "bob.last_name = 'Smith'\n",
    "p bob.name                  # => 'Robert Smith'\n",
    "nil"
   ]
  },
  {
   "cell_type": "code",
   "execution_count": 13,
   "metadata": {},
   "outputs": [
    {
     "data": {
      "text/plain": [
       "true"
      ]
     },
     "execution_count": 13,
     "metadata": {},
     "output_type": "execute_result"
    }
   ],
   "source": [
    "f, l = 'Robert'.split(' ')\n"
   ]
  },
  {
   "cell_type": "code",
   "execution_count": 30,
   "metadata": {},
   "outputs": [
    {
     "data": {
      "text/plain": [
       ":name"
      ]
     },
     "execution_count": 30,
     "metadata": {},
     "output_type": "execute_result"
    }
   ],
   "source": [
    "# LS Solution\n",
    "class Person\n",
    "  attr_accessor :first_name, :last_name\n",
    "\n",
    "  def initialize(full_name)\n",
    "    parts = full_name.split\n",
    "    @first_name = parts.first\n",
    "    @last_name = parts.size > 1 ? parts.last : ''\n",
    "  end\n",
    "\n",
    "  def name\n",
    "    \"#{first_name} #{last_name}\".strip\n",
    "  end\n",
    "end"
   ]
  },
  {
   "cell_type": "markdown",
   "metadata": {},
   "source": [
    "## 3\n",
    "\n",
    "Now create a smart name= method that can take just a first name or a full name, and knows how to set the first_name and last_name appropriately."
   ]
  },
  {
   "cell_type": "code",
   "execution_count": null,
   "metadata": {},
   "outputs": [],
   "source": [
    "bob = Person.new('Robert')\n",
    "bob.name                  # => 'Robert'\n",
    "bob.first_name            # => 'Robert'\n",
    "bob.last_name             # => ''\n",
    "bob.last_name = 'Smith'\n",
    "bob.name                  # => 'Robert Smith'\n",
    "\n",
    "bob.name = \"John Adams\"\n",
    "bob.first_name            # => 'John'\n",
    "bob.last_name             # => 'Adams'"
   ]
  },
  {
   "cell_type": "code",
   "execution_count": 32,
   "metadata": {},
   "outputs": [
    {
     "name": "stdout",
     "output_type": "stream",
     "text": [
      "Robert\n",
      "Robert\n",
      "\n",
      "Robert Smith\n",
      "\n",
      "John\n",
      "Adams\n",
      "John Adams\n"
     ]
    }
   ],
   "source": [
    "class Person\n",
    "  attr_accessor :first_name, :last_name\n",
    "\n",
    "  def initialize(full_name)\n",
    "    self.name = full_name\n",
    "  end\n",
    "\n",
    "  def name\n",
    "    \"#{first_name} #{last_name}\".strip\n",
    "  end\n",
    "  \n",
    "  def name=(full_name)\n",
    "    parts = full_name.split\n",
    "    @first_name = parts.first\n",
    "    @last_name = parts.size > 1 ? parts.last : ''\n",
    "  end\n",
    "end\n",
    "\n",
    "bob = Person.new('Robert')\n",
    "puts bob.name                  # => 'Robert'\n",
    "puts bob.first_name            # => 'Robert'\n",
    "puts bob.last_name             # => ''\n",
    "bob.last_name = 'Smith'\n",
    "puts bob.name                  # => 'Robert Smith'\n",
    "puts\n",
    "bob.name = \"John Adams\"\n",
    "puts bob.first_name            # => 'John'\n",
    "puts bob.last_name             # => 'Adams'\n",
    "puts bob.name"
   ]
  },
  {
   "cell_type": "code",
   "execution_count": null,
   "metadata": {},
   "outputs": [],
   "source": [
    "# LS Solution\n",
    "\n",
    "class Person\n",
    "  attr_accessor :first_name, :last_name\n",
    "\n",
    "  def initialize(full_name)\n",
    "    parse_full_name(full_name)\n",
    "  end\n",
    "\n",
    "  def name\n",
    "    \"#{first_name} #{last_name}\".strip\n",
    "  end\n",
    "\n",
    "  def name=(full_name)\n",
    "    parse_full_name(full_name)\n",
    "  end\n",
    "\n",
    "  private\n",
    "\n",
    "  def parse_full_name(full_name)\n",
    "    parts = full_name.split\n",
    "    self.first_name = parts.first\n",
    "    self.last_name = parts.size > 1 ? parts.last : ''\n",
    "  end\n",
    "end"
   ]
  },
  {
   "cell_type": "markdown",
   "metadata": {},
   "source": [
    "## 4\n",
    "\n",
    "Using the class definition from step #3, let's create a few more people -- that is, Person objects."
   ]
  },
  {
   "cell_type": "code",
   "execution_count": 33,
   "metadata": {},
   "outputs": [
    {
     "data": {
      "text/plain": [
       "#<#<Class:0x0000564eb6a94ec0>::Person:0x0000564eb69fbf18 @first_name=\"Robert\", @last_name=\"Smith\">"
      ]
     },
     "execution_count": 33,
     "metadata": {},
     "output_type": "execute_result"
    }
   ],
   "source": [
    "bob = Person.new('Robert Smith')\n",
    "rob = Person.new('Robert Smith')"
   ]
  },
  {
   "cell_type": "markdown",
   "metadata": {},
   "source": [
    "If we're trying to determine whether the two objects contain the same name, how can we compare the two objects?"
   ]
  },
  {
   "cell_type": "code",
   "execution_count": 34,
   "metadata": {},
   "outputs": [
    {
     "data": {
      "text/plain": [
       "true"
      ]
     },
     "execution_count": 34,
     "metadata": {},
     "output_type": "execute_result"
    }
   ],
   "source": [
    "bob.name == rob.name"
   ]
  },
  {
   "cell_type": "markdown",
   "metadata": {},
   "source": [
    "We would not be able to do `bob == rob` because that compares whether the two Pe`rson objects are the same, and right now there's no way to do that. We have to be more precise and compare strings:\n",
    "\n",
    "```ruby\n",
    "bob.name == rob.name\n",
    "```\n",
    "\n",
    "The above code compares a string with a string. But aren't strings also just objects of `String` class? If we can't compare two `Person` objects with each other with `==`, why can we compare two different `String` objects with `==`?\n",
    "\n",
    "```ruby\n",
    "str1 = 'hello world'\n",
    "str2 = 'hello world'\n",
    "\n",
    "str1 == str2          # => true\n",
    "```\n",
    "\n",
    "What about arrays, hashes, integers? It seems like Ruby treats some core library objects differently. For now, memorize this behavior. We'll explain the underpinning reason in a future lesson."
   ]
  },
  {
   "cell_type": "markdown",
   "metadata": {},
   "source": [
    "## 5\n",
    "\n",
    "Continuing with our Person class definition, what does the below print out?\n",
    "\n",
    "```ruby\n",
    "bob = Person.new(\"Robert Smith\")\n",
    "puts \"The person's name is: #{bob}\"\n",
    "```\n",
    "\n",
    "`The person's name is: #<#<Class:0x0000564eb6a94ec0>::Person:0x0000564eb6a8c720>`\n",
    "\n",
    "This is because when we use string interpolation (as opposed to string concatenation), Ruby automatically calls the `to_s` instance method on the expression between the `#{}`. Every object in Ruby comes with a `to_s` inherited from the `Object` class. By default, it prints out some gibberish, which represents its place in memory.\n",
    "\n",
    "If we do not have a `to_s` method that we can use, we must construct the string in some other way. For instance, we can use:\n",
    "\n",
    "```ruby\n",
    "puts \"The person's name is: \" + bob.name # => The person's name is: Robert Smith\n",
    "```\n",
    "\n",
    "or\n",
    "\n",
    "```ruby\n",
    "puts \"The person's name is: #{bob.name}\" # => The person's name is: Robert Smith\n",
    "```"
   ]
  },
  {
   "cell_type": "code",
   "execution_count": 36,
   "metadata": {},
   "outputs": [
    {
     "name": "stdout",
     "output_type": "stream",
     "text": [
      "The person's name is: #<#<Class:0x0000564eb6a94ec0>::Person:0x0000564eb6a8c720>\n"
     ]
    }
   ],
   "source": [
    "bob = Person.new(\"Robert Smith\")\n",
    "puts \"The person's name is: #{bob}\""
   ]
  },
  {
   "cell_type": "code",
   "execution_count": 35,
   "metadata": {},
   "outputs": [
    {
     "data": {
      "text/plain": [
       "\"#<#<Class:0x0000564eb6a94ec0>::Person:0x0000564eb6a04050>\""
      ]
     },
     "execution_count": 35,
     "metadata": {},
     "output_type": "execute_result"
    }
   ],
   "source": [
    "bob.to_s"
   ]
  },
  {
   "cell_type": "markdown",
   "metadata": {},
   "source": [
    "Let's add a to_s method to the class:\n",
    "\n",
    "```ruby\n",
    "class Person\n",
    "  # ... rest of class omitted for brevity\n",
    "\n",
    "  def to_s\n",
    "    name\n",
    "  end\n",
    "end\n",
    "```"
   ]
  },
  {
   "cell_type": "code",
   "execution_count": 37,
   "metadata": {},
   "outputs": [
    {
     "data": {
      "text/plain": [
       ":parse_full_name"
      ]
     },
     "execution_count": 37,
     "metadata": {},
     "output_type": "execute_result"
    }
   ],
   "source": [
    "class Person\n",
    "  attr_accessor :first_name, :last_name\n",
    "\n",
    "  def initialize(full_name)\n",
    "    parse_full_name(full_name)\n",
    "  end\n",
    "\n",
    "  def name\n",
    "    \"#{first_name} #{last_name}\".strip\n",
    "  end\n",
    "\n",
    "  def name=(full_name)\n",
    "    parse_full_name(full_name)\n",
    "  end\n",
    "\n",
    "  def to_s\n",
    "    name\n",
    "  end\n",
    "\n",
    "  private\n",
    "\n",
    "  def parse_full_name(full_name)\n",
    "    parts = full_name.split\n",
    "    self.first_name = parts.first\n",
    "    self.last_name = parts.size > 1 ? parts.last : ''\n",
    "  end\n",
    "end"
   ]
  },
  {
   "cell_type": "markdown",
   "metadata": {},
   "source": [
    "Now, what does the below output?"
   ]
  },
  {
   "cell_type": "code",
   "execution_count": 38,
   "metadata": {},
   "outputs": [
    {
     "name": "stdout",
     "output_type": "stream",
     "text": [
      "The person's name is: Robert Smith\n"
     ]
    }
   ],
   "source": [
    "bob = Person.new(\"Robert Smith\")\n",
    "puts \"The person's name is: #{bob}\""
   ]
  },
  {
   "cell_type": "markdown",
   "metadata": {},
   "source": [
    "This time it works as expected, due to the to_s method!\n",
    "\n",
    "`The person's name is: Robert Smith`"
   ]
  }
 ],
 "metadata": {
  "kernelspec": {
   "display_name": "Ruby 3.0.1",
   "language": "ruby",
   "name": "ruby"
  },
  "language_info": {
   "file_extension": ".rb",
   "mimetype": "application/x-ruby",
   "name": "ruby",
   "version": "3.0.1"
  },
  "orig_nbformat": 4
 },
 "nbformat": 4,
 "nbformat_minor": 2
}
