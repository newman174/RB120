{
 "cells": [
  {
   "cell_type": "code",
   "execution_count": 3,
   "metadata": {},
   "outputs": [
    {
     "data": {
      "text/plain": [
       "#<#<Class:0x000056038f5d3160>::Student:0x000056038f63a360 @name=\"Adewale\">"
      ]
     },
     "execution_count": 3,
     "metadata": {},
     "output_type": "execute_result"
    }
   ],
   "source": [
    "class Student\n",
    "  # class body\n",
    "  \n",
    "  \n",
    "  def initialize(name, grade=nil)\n",
    "    @name = name\n",
    "  end\n",
    "end\n",
    "ade = Student.new('Adewale')\n",
    "ade # => #<Student:0x00000002a88ef8 @grade=nil, @name=\"Adewale\">attr_accessor :grade"
   ]
  },
  {
   "cell_type": "code",
   "execution_count": 5,
   "metadata": {},
   "outputs": [
    {
     "name": "stdout",
     "output_type": "stream",
     "text": [
      "Sir Gallant\n",
      "Gallant is speaking.\n"
     ]
    }
   ],
   "source": [
    "class Character\n",
    "  attr_accessor :name\n",
    "\n",
    "  def initialize(name)\n",
    "    @name = name\n",
    "  end\n",
    "\n",
    "  def speak\n",
    "    \"#{@name} is speaking.\"\n",
    "  end\n",
    "end\n",
    "\n",
    "class Knight < Character\n",
    "  def name\n",
    "    \"Sir \" + super\n",
    "  end\n",
    "end\n",
    "\n",
    "sir_gallant = Knight.new(\"Gallant\")\n",
    "puts sir_gallant.name # => \"Sir Gallant\"\n",
    "puts sir_gallant.speak # => \"Sir Gallant is speaking.\""
   ]
  },
  {
   "cell_type": "code",
   "execution_count": 6,
   "metadata": {},
   "outputs": [
    {
     "data": {
      "text/plain": [
       "\"Sir Gallant\""
      ]
     },
     "execution_count": 6,
     "metadata": {},
     "output_type": "execute_result"
    }
   ],
   "source": [
    "sir_gallant.name"
   ]
  },
  {
   "cell_type": "code",
   "execution_count": 7,
   "metadata": {},
   "outputs": [
    {
     "name": "stdout",
     "output_type": "stream",
     "text": [
      "Sir Gallant\n",
      "Sir Gallant is speaking.\n"
     ]
    }
   ],
   "source": [
    "class Character\n",
    "  attr_accessor :name\n",
    "\n",
    "  def initialize(name)\n",
    "    @name = name\n",
    "  end\n",
    "\n",
    "  def speak\n",
    "    \"#{name} is speaking.\"\n",
    "  end\n",
    "end\n",
    "\n",
    "class Knight < Character\n",
    "  def name\n",
    "    \"Sir \" + super\n",
    "  end\n",
    "end\n",
    "\n",
    "sir_gallant = Knight.new(\"Gallant\")\n",
    "puts sir_gallant.name # => \"Sir Gallant\"\n",
    "puts sir_gallant.speak # => \"Sir Gallant is speaking.\""
   ]
  },
  {
   "cell_type": "code",
   "execution_count": 9,
   "metadata": {},
   "outputs": [
    {
     "name": "stdout",
     "output_type": "stream",
     "text": [
      "Sneak\n",
      "Sneak is whispering...\n"
     ]
    }
   ],
   "source": [
    "class Character\n",
    "  attr_accessor :name\n",
    "\n",
    "  def initialize(name)\n",
    "    @name = name\n",
    "  end\n",
    "\n",
    "  def speak\n",
    "    \"#{@name} is speaking.\"\n",
    "  end\n",
    "end\n",
    "\n",
    "class Thief < Character\n",
    "  def speak; \"#{name} is whispering...\"; end\n",
    "end\n",
    "\n",
    "sneak = Thief.new(\"Sneak\")\n",
    "puts sneak.name # => \"Sneak\"\n",
    "puts sneak.speak # => \"Sneak is whispering...\""
   ]
  },
  {
   "cell_type": "code",
   "execution_count": 4,
   "metadata": {},
   "outputs": [
    {
     "name": "stdout",
     "output_type": "stream",
     "text": [
      "#<Class:0x000055fbbe89b268>::Sheep says baa!\n",
      "#<Class:0x000055fbbe89b268>::Lamb says baa!baaaaaaa!\n",
      "#<Class:0x000055fbbe89b268>::Cow says mooooooo!\n"
     ]
    }
   ],
   "source": [
    "class FarmAnimal\n",
    "  def speak\n",
    "    \"#{self.class} says \"\n",
    "  end\n",
    "end\n",
    "\n",
    "class Sheep < FarmAnimal\n",
    "  def speak\n",
    "    super + \"baa!\"\n",
    "  end\n",
    "end\n",
    "\n",
    "class Lamb < Sheep\n",
    "  def speak\n",
    "    super + \"baaaaaaa!\"\n",
    "  end\n",
    "end\n",
    "\n",
    "class Cow < FarmAnimal\n",
    "  def speak\n",
    "    super + \"mooooooo!\"\n",
    "  end\n",
    "end\n",
    "\n",
    "puts Sheep.new.speak # => \"Sheep says baa!\"\n",
    "puts Lamb.new.speak # => \"Lamb says baa!baaaaaaa!\"\n",
    "puts Cow.new.speak # => \"Cow says mooooooo!\""
   ]
  }
 ],
 "metadata": {
  "kernelspec": {
   "display_name": "Ruby 3.0.1",
   "language": "ruby",
   "name": "ruby"
  },
  "language_info": {
   "file_extension": ".rb",
   "mimetype": "application/x-ruby",
   "name": "ruby",
   "version": "3.0.1"
  },
  "orig_nbformat": 4
 },
 "nbformat": 4,
 "nbformat_minor": 2
}
