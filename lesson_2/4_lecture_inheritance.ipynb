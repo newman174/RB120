{
 "cells": [
  {
   "cell_type": "markdown",
   "metadata": {},
   "source": [
    "## 1"
   ]
  },
  {
   "cell_type": "code",
   "execution_count": 2,
   "metadata": {},
   "outputs": [
    {
     "name": "stdout",
     "output_type": "stream",
     "text": [
      "bark!\n",
      "swimming!\n",
      "bark!\n",
      "can't swim!\n"
     ]
    }
   ],
   "source": [
    "class Dog\n",
    "  def speak\n",
    "    'bark!'\n",
    "  end\n",
    "\n",
    "  def swim\n",
    "    'swimming!'\n",
    "  end\n",
    "end\n",
    "\n",
    "\n",
    "teddy = Dog.new\n",
    "puts teddy.speak           # => \"bark!\"\n",
    "puts teddy.swim           # => \"swimming!\"\n",
    "\n",
    "class Bulldog < Dog\n",
    "  def swim\n",
    "    \"can't swim!\"\n",
    "  end\n",
    "end\n",
    "\n",
    "mark = Bulldog.new\n",
    "puts mark.speak\n",
    "puts mark.swim"
   ]
  },
  {
   "cell_type": "markdown",
   "metadata": {},
   "source": [
    "## 2"
   ]
  },
  {
   "cell_type": "code",
   "execution_count": 10,
   "metadata": {},
   "outputs": [
    {
     "name": "stdout",
     "output_type": "stream",
     "text": [
      "running!\n",
      "\n",
      "\n",
      "running!\n",
      "meow!\n",
      "\n",
      "\n",
      "bark!\n",
      "\n",
      "running!\n",
      "can't swim!\n"
     ]
    }
   ],
   "source": [
    "class Pet\n",
    "  def run\n",
    "    'running!'\n",
    "  end\n",
    "  \n",
    "  def jump\n",
    "    'jumping!'\n",
    "  end\n",
    "end\n",
    "\n",
    "class Dog < Pet\n",
    "  def speak\n",
    "    'bark!'\n",
    "  end\n",
    "  \n",
    "  def swim\n",
    "    'swimming!'\n",
    "  end\n",
    "  \n",
    "  def fetch\n",
    "    'fetching!'\n",
    "  end\n",
    "end\n",
    "\n",
    "class Bulldog < Dog\n",
    "  def swim\n",
    "    \"can't swim!\"\n",
    "  end\n",
    "end\n",
    "\n",
    "class Cat < Pet\n",
    "  def speak\n",
    "    'meow!'\n",
    "  end\n",
    "end\n",
    "\n",
    "pete = Pet.new\n",
    "kitty = Cat.new\n",
    "dave = Dog.new\n",
    "bud = Bulldog.new\n",
    "\n",
    "puts pete.run                # => \"running!\"\n",
    "puts # pete.speak              # => NoMethodError\n",
    "puts \n",
    "puts kitty.run               # => \"running!\"\n",
    "puts kitty.speak             # => \"meow!\"\n",
    "puts # kitty.fetch             # => NoMethodError\n",
    "puts \n",
    "puts dave.speak              # => \"bark!\"\n",
    "puts \n",
    "puts bud.run                 # => \"running!\"\n",
    "puts bud.swim                # => \"can't swim!\""
   ]
  },
  {
   "cell_type": "markdown",
   "metadata": {},
   "source": [
    "## 4\n",
    "\n",
    "*My solution*:\n",
    "The *method lookup path* describes where (and in what order) ruby looks for a method of a given name. The fact that it can look outside of the current class allows for inheritance. By considering order, we can be specific about overriding certain methods in a superclass."
   ]
  },
  {
   "cell_type": "markdown",
   "metadata": {},
   "source": [
    "The method lookup path is the order in which Ruby will traverse the class hierarchy to look for methods to invoke. For example, say you have a Bulldog object called bud and you call: bud.swim. Ruby will first look for a method called swim in the Bulldog class, then traverse up the chain of super-classes; it will invoke the first method called swim and stop its traversal.\n",
    "\n",
    "In our simple class hierarchy, it's pretty straight forward. Things can quickly get complicated in larger libraries or frameworks. To see the method lookup path, we can use the `.ancestors` class method."
   ]
  },
  {
   "cell_type": "code",
   "execution_count": 15,
   "metadata": {},
   "outputs": [
    {
     "name": "stdout",
     "output_type": "stream",
     "text": [
      "[#<Class:0x0000557b41ff53e0>::Bulldog,\n",
      " #<Class:0x0000557b41ff53e0>::Dog,\n",
      " #<Class:0x0000557b41ff53e0>::Pet,\n",
      " Object,\n",
      " PP::ObjectMixin,\n",
      " JSON::Ext::Generator::GeneratorMethods::Object,\n",
      " Kernel,\n",
      " BasicObject]\n"
     ]
    }
   ],
   "source": [
    "pp Bulldog.ancestors       # => [Bulldog, Dog, Pet, Object, Kernel, BasicObject]\n",
    "nil"
   ]
  },
  {
   "cell_type": "markdown",
   "metadata": {},
   "source": [
    "Note that this method returns an array, and that all classes sub-class from `Object`. Don't worry about `Kernel` or `BasicObject` for now."
   ]
  }
 ],
 "metadata": {
  "kernelspec": {
   "display_name": "Ruby 3.0.1",
   "language": "ruby",
   "name": "ruby"
  },
  "language_info": {
   "file_extension": ".rb",
   "mimetype": "application/x-ruby",
   "name": "ruby",
   "version": "3.0.1"
  },
  "orig_nbformat": 4
 },
 "nbformat": 4,
 "nbformat_minor": 2
}
