{
 "cells": [
  {
   "cell_type": "markdown",
   "metadata": {},
   "source": [
    "# Object Oriented Programming with Ruby\n",
    "\n",
    "[Read](https://launchschool.com/books/oo_ruby)"
   ]
  },
  {
   "cell_type": "markdown",
   "metadata": {},
   "source": [
    "## The Object Model"
   ]
  },
  {
   "cell_type": "code",
   "execution_count": 5,
   "metadata": {},
   "outputs": [
    {
     "name": "stdout",
     "output_type": "stream",
     "text": [
      "Arf!\n",
      "Hello!\n"
     ]
    }
   ],
   "source": [
    "# good_dog.rb\n",
    "\n",
    "module Speak\n",
    "  def speak(sound)\n",
    "    puts sound\n",
    "  end\n",
    "end\n",
    "\n",
    "class GoodDog\n",
    "  include Speak\n",
    "end\n",
    "\n",
    "class HumanBeing\n",
    "  include Speak\n",
    "end\n",
    "\n",
    "sparky = GoodDog.new\n",
    "sparky.speak(\"Arf!\")\n",
    "bob = HumanBeing.new\n",
    "bob.speak(\"Hello!\")\n",
    "\n"
   ]
  },
  {
   "cell_type": "code",
   "execution_count": 7,
   "metadata": {},
   "outputs": [
    {
     "name": "stdout",
     "output_type": "stream",
     "text": [
      "---GoodDog ancestors---\n",
      "#<Class:0x0000562ab37bd020>::GoodDog\n",
      "#<Class:0x0000562ab37bd020>::Speak\n",
      "Object\n",
      "PP::ObjectMixin\n",
      "JSON::Ext::Generator::GeneratorMethods::Object\n",
      "Kernel\n",
      "BasicObject\n",
      "\n",
      "---HumanBeing ancestors---\n",
      "#<Class:0x0000562ab37bd020>::HumanBeing\n",
      "#<Class:0x0000562ab37bd020>::Speak\n",
      "Object\n",
      "PP::ObjectMixin\n",
      "JSON::Ext::Generator::GeneratorMethods::Object\n",
      "Kernel\n",
      "BasicObject\n",
      "\n"
     ]
    }
   ],
   "source": [
    "# good_dog.rb\n",
    "\n",
    "module Speak\n",
    "  def speak(sound)\n",
    "    puts \"#{sound}\"\n",
    "  end\n",
    "end\n",
    "\n",
    "class GoodDog\n",
    "  include Speak\n",
    "end\n",
    "\n",
    "class HumanBeing\n",
    "  include Speak\n",
    "end\n",
    "\n",
    "puts \"---GoodDog ancestors---\"\n",
    "puts GoodDog.ancestors\n",
    "puts ''\n",
    "\n",
    "puts \"---HumanBeing ancestors---\"\n",
    "puts HumanBeing.ancestors\n",
    "puts ''\n"
   ]
  },
  {
   "cell_type": "markdown",
   "metadata": {},
   "source": [
    "### Exercises"
   ]
  },
  {
   "cell_type": "code",
   "execution_count": 9,
   "metadata": {},
   "outputs": [
    {
     "data": {
      "text/plain": [
       "#<#<Class:0x0000562ab37bd020>::MyClass:0x0000562ab2aecee0>"
      ]
     },
     "execution_count": 9,
     "metadata": {},
     "output_type": "execute_result"
    }
   ],
   "source": [
    "#### Ex 1\n",
    "\n",
    "# By defining a class and instantiating it.\n",
    "\n",
    "class MyClass\n",
    "\n",
    "end\n",
    "\n",
    "object = MyClass.new"
   ]
  },
  {
   "cell_type": "code",
   "execution_count": 16,
   "metadata": {},
   "outputs": [
    {
     "name": "stdout",
     "output_type": "stream",
     "text": [
      "hello world\n"
     ]
    },
    {
     "data": {
      "text/plain": [
       "[#<Class:0x0000562ab37bd020>::Careers::Teacher, Object, PP::ObjectMixin, JSON::Ext::Generator::GeneratorMethods::Object, Kernel, BasicObject]"
      ]
     },
     "execution_count": 16,
     "metadata": {},
     "output_type": "execute_result"
    }
   ],
   "source": [
    "#### Ex 2\n",
    "\n",
    "=begin\n",
    "\n",
    "What is a module? \n",
    "  A module allows us to group reusable code into one place. It is not an object.\n",
    "\n",
    "\n",
    "What is its purpose? \n",
    "  Define a set of methods that can be used by multiple classes of objects.\n",
    "  \"Modules are also used as a namespace.\" What is a namespace? Namespacing helps you organize your code better.\n",
    "\n",
    "\n",
    "How do we use them with our classes? \n",
    "  Using keyword `include` followed by the module name\n",
    "\n",
    "  Create a module for the class you created in exercise 1 and include it properly.\n",
    "\n",
    "=end\n",
    "\n",
    "module Swimable\n",
    "  def say_hi\n",
    "    puts \"hello world\"\n",
    "  end\n",
    "end\n",
    "\n",
    "class Person\n",
    "  include Swimable\n",
    "end\n",
    "\n",
    "object = Person.new\n",
    "object.say_hi\n",
    "\n",
    "module Careers\n",
    "  class Engineer\n",
    "  end\n",
    "\n",
    "  class Teacher\n",
    "  end\n",
    "end\n",
    "\n",
    "# why not just use another class?\n",
    "\n",
    "first_job = Careers::Teacher.new\n",
    "Careers::Teacher.ancestors"
   ]
  },
  {
   "cell_type": "markdown",
   "metadata": {},
   "source": [
    "## Classes and Objects - Part I"
   ]
  },
  {
   "cell_type": "markdown",
   "metadata": {},
   "source": [
    "Quiz"
   ]
  },
  {
   "cell_type": "code",
   "execution_count": 7,
   "metadata": {},
   "outputs": [
    {
     "name": "stdout",
     "output_type": "stream",
     "text": [
      "#<Class:0x00005575ec2f51b8>::Penguin\n",
      "#<Class:0x00005575ec2f51b8>::Migratory\n",
      "#<Class:0x00005575ec2f51b8>::Aquatic\n",
      "#<Class:0x00005575ec2f51b8>::Bird\n",
      "#<Class:0x00005575ec2f51b8>::Animal\n",
      "Object\n",
      "PP::ObjectMixin\n",
      "JSON::Ext::Generator::GeneratorMethods::Object\n",
      "Kernel\n",
      "BasicObject\n"
     ]
    },
    {
     "ename": "NoMethodError",
     "evalue": "undefined method `fly' for #<#<Class:0x00005575ec2f51b8>::Penguin:0x00005575eb64faa8>",
     "output_type": "error",
     "traceback": [
      "\u001b[31mNoMethodError\u001b[0m: undefined method `fly' for #<#<Class:0x00005575ec2f51b8>::Penguin:0x00005575eb64faa8>",
      "(irb):25:in `<main>'"
     ]
    }
   ],
   "source": [
    "module Flight\n",
    "  def fly; end\n",
    "end\n",
    "\n",
    "module Aquatic\n",
    "  def swim; end\n",
    "end\n",
    "\n",
    "module Migratory\n",
    "  def migrate; end\n",
    "end\n",
    "\n",
    "class Animal\n",
    "end\n",
    "\n",
    "class Bird < Animal\n",
    "end\n",
    "\n",
    "class Penguin < Bird\n",
    "  include Aquatic\n",
    "  include Migratory\n",
    "end\n",
    "\n",
    "pingu = Penguin.new\n",
    "puts Penguin.ancestors\n",
    "pingu.fly"
   ]
  },
  {
   "cell_type": "code",
   "execution_count": 8,
   "metadata": {},
   "outputs": [
    {
     "name": "stdout",
     "output_type": "stream",
     "text": [
      "Daisy says moooooooooooo!\n"
     ]
    }
   ],
   "source": [
    "class Animal\n",
    "  def initialize(name)\n",
    "    @name = name\n",
    "  end\n",
    "\n",
    "  def speak\n",
    "    puts sound\n",
    "  end\n",
    "\n",
    "  def sound\n",
    "    \"#{@name} says \"\n",
    "  end\n",
    "end\n",
    "\n",
    "class Cow < Animal\n",
    "  def sound\n",
    "    super + \"moooooooooooo!\"\n",
    "  end\n",
    "end\n",
    "\n",
    "daisy = Cow.new(\"Daisy\")\n",
    "daisy.speak"
   ]
  },
  {
   "cell_type": "code",
   "execution_count": 18,
   "metadata": {},
   "outputs": [
    {
     "name": "stdout",
     "output_type": "stream",
     "text": [
      "48100\n",
      "48000\n",
      "48000\n",
      "\n"
     ]
    }
   ],
   "source": [
    "class MeMyselfAndI\n",
    "  self\n",
    "\n",
    "  def self.me\n",
    "    puts self.object_id\n",
    "  end\n",
    "\n",
    "  def myself\n",
    "    puts self.object_id\n",
    "\n",
    "  end\n",
    "end\n",
    "\n",
    "i = MeMyselfAndI.new\n",
    "puts i.object_id\n",
    "puts MeMyselfAndI.object_id\n",
    "puts MeMyselfAndI.me"
   ]
  }
 ],
 "metadata": {
  "kernelspec": {
   "display_name": "Ruby 3.0.1",
   "language": "ruby",
   "name": "ruby"
  },
  "language_info": {
   "file_extension": ".rb",
   "mimetype": "application/x-ruby",
   "name": "ruby",
   "version": "3.0.1"
  },
  "orig_nbformat": 4
 },
 "nbformat": 4,
 "nbformat_minor": 2
}
