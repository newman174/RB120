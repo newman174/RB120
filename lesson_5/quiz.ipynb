{
 "cells": [
  {
   "cell_type": "code",
   "execution_count": 2,
   "metadata": {},
   "outputs": [
    {
     "name": "stderr",
     "output_type": "stream",
     "text": [
      "(irb):32: warning: already initialized constant #<Class:0x0000561a2498b540>::Burger::OPTIONS\n",
      "(irb):32: warning: previous definition of OPTIONS was here\n",
      "(irb):41: warning: already initialized constant #<Class:0x0000561a2498b540>::Side::OPTIONS\n",
      "(irb):41: warning: previous definition of OPTIONS was here\n",
      "(irb):48: warning: already initialized constant #<Class:0x0000561a2498b540>::Drink::OPTIONS\n",
      "(irb):48: warning: previous definition of OPTIONS was here\n"
     ]
    },
    {
     "name": "stdout",
     "output_type": "stream",
     "text": [
      "Please choose a #<Class:0x0000561a2498b540>::Burger option:\n"
     ]
    },
    {
     "ename": "NameError",
     "evalue": "undefined local variable or method `item_options' for #<#<Class:0x0000561a2498b540>::Burger:0x0000561a24a26c98>",
     "output_type": "error",
     "traceback": [
      "\u001b[31mNameError\u001b[0m: undefined local variable or method `item_options' for #<#<Class:0x0000561a2498b540>::Burger:0x0000561a24a26c98>",
      "(irb):25:in `choose_option'",
      "(irb):20:in `initialize'",
      "(irb):8:in `new'",
      "(irb):8:in `initialize'",
      "(irb):2:in `new'",
      "(irb):2:in `place_order'",
      "(irb):57:in `<main>'"
     ]
    }
   ],
   "source": [
    "class Customer\n",
    "  def place_order\n",
    "    @order = Order.new\n",
    "  end\n",
    "end\n",
    "\n",
    "class Order\n",
    "  def initialize\n",
    "    @burger = Burger.new\n",
    "    @side = Side.new\n",
    "    @drink = Drink.new\n",
    "  end\n",
    "  \n",
    "  def meal\n",
    "    [@burger, @side, @drink]\n",
    "  end\n",
    "end\n",
    "\n",
    "class MealItem\n",
    "  def initialize\n",
    "    @option = choose_option\n",
    "  end\n",
    "  \n",
    "  def choose_option\n",
    "    puts \"Please choose a #{self.class} option:\"\n",
    "    puts item_options # item_options returns a list of options and prices\n",
    "                      # for a particular item type\n",
    "    gets.chomp\n",
    "  end\n",
    "end\n",
    "\n",
    "class Burger < MealItem\n",
    "  OPTIONS = {\n",
    "    '1' => { name: 'LS Burger', cost: 3.00 },\n",
    "    '2' => { name: 'LS Cheeseburger', cost: 3.50 },\n",
    "    '3' => { name: 'LS Chicken Burger', cost: 4.50 },\n",
    "    '4' => { name: 'LS Double Deluxe Burger', cost: 6.00 }\n",
    "  }\n",
    "end\n",
    "\n",
    "class Side < MealItem\n",
    "  OPTIONS = {\n",
    "    '1' => { name: 'Fries', cost: 0.99 },\n",
    "    '2' => { name: 'Onion Rings', cost: 1.50 }\n",
    "  }\n",
    "end\n",
    "\n",
    "class Drink < MealItem\n",
    "  OPTIONS = {\n",
    "    '1' => { name: 'Cola', cost: 1.50 },\n",
    "    '2' => { name: 'Lemonade', cost: 1.50 },\n",
    "    '3' => { name: 'Vanilla Shake', cost: 2.00 },\n",
    "    '4' => { name: 'Chocolate Shake', cost: 2.00 },\n",
    "    '5' => { name: 'Strawberry Shake', cost: 2.00 }\n",
    "  }\n",
    "end\n",
    "\n",
    "Customer.new.place_order"
   ]
  }
 ],
 "metadata": {
  "kernelspec": {
   "display_name": "Ruby 3.0.1",
   "language": "ruby",
   "name": "ruby"
  },
  "language_info": {
   "file_extension": ".rb",
   "mimetype": "application/x-ruby",
   "name": "ruby",
   "version": "3.0.1"
  },
  "orig_nbformat": 4
 },
 "nbformat": 4,
 "nbformat_minor": 2
}
