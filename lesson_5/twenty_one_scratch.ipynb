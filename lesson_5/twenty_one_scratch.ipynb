{
 "cells": [
  {
   "cell_type": "code",
   "execution_count": 15,
   "metadata": {},
   "outputs": [
    {
     "name": "stderr",
     "output_type": "stream",
     "text": [
      "(irb):20: warning: already initialized constant #<Class:0x00005589ca45f318>::GameDisplay::Frame::TOP_BOTTOM_DIV_SYM\n",
      "(irb):20: warning: previous definition of TOP_BOTTOM_DIV_SYM was here\n",
      "(irb):21: warning: already initialized constant #<Class:0x00005589ca45f318>::GameDisplay::Frame::TOP_BOTTOM_MARGIN_LINES\n",
      "(irb):21: warning: previous definition of TOP_BOTTOM_MARGIN_LINES was here\n",
      "(irb):22: warning: already initialized constant #<Class:0x00005589ca45f318>::GameDisplay::Frame::SIDE_DIV_SYM\n",
      "(irb):22: warning: previous definition of SIDE_DIV_SYM was here\n",
      "(irb):23: warning: already initialized constant #<Class:0x00005589ca45f318>::GameDisplay::Frame::SIDE_MARGIN\n",
      "(irb):23: warning: previous definition of SIDE_MARGIN was here\n",
      "(irb):24: warning: already initialized constant #<Class:0x00005589ca45f318>::GameDisplay::Frame::TOTAL_PAD\n",
      "(irb):24: warning: previous definition of TOTAL_PAD was here\n",
      "(irb):26: warning: redefining constant Struct::Line\n",
      "(irb):26: warning: already initialized constant #<Class:0x00005589ca45f318>::GameDisplay::Frame::Line\n",
      "(irb):26: warning: previous definition of Line was here\n"
     ]
    },
    {
     "data": {
      "text/plain": [
       ":print"
      ]
     },
     "execution_count": 15,
     "metadata": {},
     "output_type": "execute_result"
    }
   ],
   "source": [
    "module GameDisplay\n",
    "  \n",
    "  class Display\n",
    "    attr_accessor :frames\n",
    "\n",
    "    def initialize\n",
    "      self.frames = []\n",
    "    end\n",
    "\n",
    "    def show\n",
    "      frames.each(&:print)\n",
    "      nil\n",
    "    end\n",
    "\n",
    "    def add_frame(frame)\n",
    "      frames.push(frame)\n",
    "    end\n",
    "  end\n",
    "\n",
    "  class Frame\n",
    "    TOP_BOTTOM_DIV_SYM = '_'\n",
    "    TOP_BOTTOM_MARGIN_LINES = 1\n",
    "    SIDE_DIV_SYM = '|'\n",
    "    SIDE_MARGIN = '   '\n",
    "    TOTAL_PAD = (SIDE_MARGIN.size * 2) + 2\n",
    "\n",
    "    Line = Struct.new('Line', :text, :align)\n",
    "\n",
    "    attr_accessor :lines\n",
    "\n",
    "    def initialize\n",
    "      self.lines = []\n",
    "    end\n",
    "\n",
    "    def width\n",
    "      max_line_length = lines.empty? ? 0 : lines.map { |line| line.text.length }.max\n",
    "      max_line_length + TOTAL_PAD\n",
    "    end\n",
    "\n",
    "    def add_line(text: '', align: :left)\n",
    "      lines.push(Line.new(text, align))\n",
    "      nil\n",
    "    end\n",
    "\n",
    "    def top_bottom_border\n",
    "      \"#{TOP_BOTTOM_DIV_SYM * width}\"\n",
    "    end\n",
    "    \n",
    "    def top_bottom_margin\n",
    "      \"#{SIDE_DIV_SYM}#{' ' * (width - 2)}#{SIDE_DIV_SYM}\"\n",
    "    end\n",
    "\n",
    "    def left_border\n",
    "      \"#{SIDE_DIV_SYM}#{SIDE_MARGIN}\"\n",
    "    end\n",
    "\n",
    "    def right_border\n",
    "      \"#{SIDE_MARGIN}#{SIDE_DIV_SYM}\"\n",
    "    end\n",
    "\n",
    "    def line_to_s(line)\n",
    "      case line.align\n",
    "      when :left then line.text.ljust(width - TOTAL_PAD)\n",
    "      when :right then line.text.rjust(width - TOTAL_PAD)\n",
    "      when :center then line.text.center(width - TOTAL_PAD)\n",
    "      end\n",
    "    end\n",
    "\n",
    "    def print\n",
    "      puts top_bottom_border\n",
    "      TOP_BOTTOM_MARGIN_LINES.times { puts top_bottom_margin }\n",
    "      lines.each { |line| puts \"#{left_border}#{line_to_s(line)}#{right_border}\" }\n",
    "      TOP_BOTTOM_MARGIN_LINES.times { puts top_bottom_margin }\n",
    "      puts top_bottom_border\n",
    "    end\n",
    "  end\n",
    "end\n"
   ]
  },
  {
   "cell_type": "code",
   "execution_count": 17,
   "metadata": {},
   "outputs": [
    {
     "name": "stdout",
     "output_type": "stream",
     "text": [
      "_______________\n",
      "|             |\n",
      "|   Scores    |\n",
      "|   Mike: 1   |\n",
      "|   Comp: 1   |\n",
      "|             |\n",
      "_______________\n",
      "divider\n",
      "_______________\n",
      "|             |\n",
      "|   Scores    |\n",
      "|   Mike: 1   |\n",
      "|   Comp: 1   |\n",
      "|             |\n",
      "_______________\n",
      "___________________________________________________________________\n",
      "|                                                                 |\n",
      "|                         Some long msg:                          |\n",
      "|   warning: previous definition of TOP_BOTTOM_DIV_SYM was here   |\n",
      "|                                                                 |\n",
      "___________________________________________________________________\n"
     ]
    }
   ],
   "source": [
    "frame = GameDisplay::Frame.new\n",
    "frame.add_line text: \"Scores\"\n",
    "frame.add_line text: \"Mike: 1\"\n",
    "frame.add_line text: \"Comp: 1\"\n",
    "\n",
    "# p frame.width\n",
    "# frame.print\n",
    "display = GameDisplay::Display.new\n",
    "display.show\n",
    "display.add_frame(frame)\n",
    "display.show\n",
    "\n",
    "puts \"divider\"\n",
    "frame2 = GameDisplay::Frame.new\n",
    "frame2.add_line text: \"Some long msg:\", align: :center\n",
    "frame2.add_line text: \"warning: previous definition of TOP_BOTTOM_DIV_SYM was here\"\n",
    "display.add_frame(frame2)\n",
    "display.show\n"
   ]
  },
  {
   "cell_type": "code",
   "execution_count": 50,
   "metadata": {},
   "outputs": [
    {
     "name": "stderr",
     "output_type": "stream",
     "text": [
      "(irb): warning: redefining constant Struct::Line\n",
      "(irb): warning: already initialized constant Object::Line\n"
     ]
    },
    {
     "name": "stdout",
     "output_type": "stream",
     "text": [
      ":left\n"
     ]
    },
    {
     "data": {
      "text/plain": [
       ":left"
      ]
     },
     "execution_count": 50,
     "metadata": {},
     "output_type": "execute_result"
    }
   ],
   "source": [
    "Line = Struct.new('Line', :text, :align)\n",
    "greeting_line = Line.new(\"hi there\", :left) \n",
    "p greeting_line.align"
   ]
  },
  {
   "cell_type": "code",
   "execution_count": 21,
   "metadata": {},
   "outputs": [
    {
     "name": "stdout",
     "output_type": "stream",
     "text": [
      "[\"Twenty-one is a card game consisting of a dealer and a player, where the\\n\", \"participants try to get as close to 21 as possible without going over.\\n\", \"\\n\", \"Here is an overview of the game:\\n\", \"- Both participants are initially dealt 2 cards from a 52-card deck.\\n\", \"- The player takes the first turn, and can \\\"hit\\\" or \\\"stay\\\".\\n\", \"- If the player busts, he loses. If he stays, it's the dealer's turn.\\n\", \"- The dealer must hit until his cards add up until at least 17.\\n\", \"- If he busts, the player wins. If both player and dealer stay, then the highest\\n\", \"  total wins.\\n\", \"- If both totals are equal, then it's a tie, and nobody wins.\\n\"]\n"
     ]
    }
   ],
   "source": [
    "rules = <<-RULES\n",
    "Twenty-one is a card game consisting of a dealer and a player, where the\n",
    "participants try to get as close to 21 as possible without going over.\n",
    "\n",
    "Here is an overview of the game:\n",
    "- Both participants are initially dealt 2 cards from a 52-card deck.\n",
    "- The player takes the first turn, and can \"hit\" or \"stay\".\n",
    "- If the player busts, he loses. If he stays, it's the dealer's turn.\n",
    "- The dealer must hit until his cards add up until at least 17.\n",
    "- If he busts, the player wins. If both player and dealer stay, then the highest\n",
    "  total wins.\n",
    "- If both totals are equal, then it's a tie, and nobody wins.\n",
    "RULES\n",
    "\n",
    "p rules.lines\n",
    "nil"
   ]
  }
 ],
 "metadata": {
  "kernelspec": {
   "display_name": "Ruby 3.0.1",
   "language": "ruby",
   "name": "ruby"
  },
  "language_info": {
   "file_extension": ".rb",
   "mimetype": "application/x-ruby",
   "name": "ruby",
   "version": "3.0.1"
  },
  "orig_nbformat": 4
 },
 "nbformat": 4,
 "nbformat_minor": 2
}
